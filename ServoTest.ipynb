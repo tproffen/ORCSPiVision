{
 "cells": [
  {
   "cell_type": "markdown",
   "id": "960f6eee",
   "metadata": {},
   "source": [
    "### Servo Test\n",
    "\n",
    "Testing to run a servo."
   ]
  },
  {
   "cell_type": "code",
   "execution_count": 1,
   "id": "20a7fbbb",
   "metadata": {},
   "outputs": [],
   "source": [
    "from gpiozero import Servo\n",
    "from aiy.pins import PIN_A\n",
    "\n",
    "import time"
   ]
  },
  {
   "cell_type": "code",
   "execution_count": 2,
   "id": "e0d84b9c",
   "metadata": {},
   "outputs": [
    {
     "name": "stderr",
     "output_type": "stream",
     "text": [
      "/usr/lib/python3/dist-packages/gpiozero/output_devices.py:1533: PWMSoftwareFallback: To reduce servo jitter, use the pigpio pin factory.See https://gpiozero.readthedocs.io/en/stable/api_output.html#servo for more info\n",
      "  'To reduce servo jitter, use the pigpio pin factory.'\n"
     ]
    }
   ],
   "source": [
    "# To run again, restart kernel - ?!?!?!?!?!?!?!\n",
    "servo = Servo(PIN_A)"
   ]
  },
  {
   "cell_type": "code",
   "execution_count": 4,
   "id": "427f5d79",
   "metadata": {},
   "outputs": [],
   "source": [
    "servo.mid()\n",
    "servo.value = 0.8"
   ]
  },
  {
   "cell_type": "code",
   "execution_count": 7,
   "id": "d3b2af80",
   "metadata": {},
   "outputs": [],
   "source": [
    "for i in range(-10,10):\n",
    "    servo.value=0.1*i\n",
    "    time.sleep(0.2)"
   ]
  },
  {
   "cell_type": "code",
   "execution_count": 6,
   "id": "a3f7c03c",
   "metadata": {},
   "outputs": [],
   "source": [
    "servo.mid()"
   ]
  },
  {
   "cell_type": "code",
   "execution_count": 17,
   "id": "7ab12be9",
   "metadata": {},
   "outputs": [],
   "source": [
    "servo.value=0.05"
   ]
  },
  {
   "cell_type": "code",
   "execution_count": null,
   "id": "eafa26f9",
   "metadata": {},
   "outputs": [],
   "source": []
  }
 ],
 "metadata": {
  "kernelspec": {
   "display_name": "Python 3 (ipykernel)",
   "language": "python",
   "name": "python3"
  },
  "language_info": {
   "codemirror_mode": {
    "name": "ipython",
    "version": 3
   },
   "file_extension": ".py",
   "mimetype": "text/x-python",
   "name": "python",
   "nbconvert_exporter": "python",
   "pygments_lexer": "ipython3",
   "version": "3.7.3"
  }
 },
 "nbformat": 4,
 "nbformat_minor": 5
}
